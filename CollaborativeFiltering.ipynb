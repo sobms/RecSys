{
 "cells": [
  {
   "cell_type": "code",
   "execution_count": 1,
   "id": "8a19628a",
   "metadata": {},
   "outputs": [],
   "source": [
    "import pandas as pd\n",
    "import random\n",
    "from scipy.sparse import coo_matrix, csr_matrix\n",
    "import numpy as np\n",
    "from sklearn.metrics.pairwise import cosine_similarity"
   ]
  },
  {
   "cell_type": "code",
   "execution_count": 2,
   "id": "d58055cc",
   "metadata": {},
   "outputs": [],
   "source": [
    "interactions = pd.read_csv(\"D:\\RecSys\\syntetic_data.csv\", usecols=['uid', 'item_id'])"
   ]
  },
  {
   "cell_type": "code",
   "execution_count": 3,
   "id": "37e4db46",
   "metadata": {
    "scrolled": false
   },
   "outputs": [
    {
     "data": {
      "text/html": [
       "<div>\n",
       "<style scoped>\n",
       "    .dataframe tbody tr th:only-of-type {\n",
       "        vertical-align: middle;\n",
       "    }\n",
       "\n",
       "    .dataframe tbody tr th {\n",
       "        vertical-align: top;\n",
       "    }\n",
       "\n",
       "    .dataframe thead th {\n",
       "        text-align: right;\n",
       "    }\n",
       "</style>\n",
       "<table border=\"1\" class=\"dataframe\">\n",
       "  <thead>\n",
       "    <tr style=\"text-align: right;\">\n",
       "      <th></th>\n",
       "      <th>page_type</th>\n",
       "      <th>weight</th>\n",
       "    </tr>\n",
       "  </thead>\n",
       "  <tbody>\n",
       "    <tr>\n",
       "      <th>0</th>\n",
       "      <td>bought</td>\n",
       "      <td>1</td>\n",
       "    </tr>\n",
       "    <tr>\n",
       "      <th>1</th>\n",
       "      <td>added to wishlist</td>\n",
       "      <td>1</td>\n",
       "    </tr>\n",
       "  </tbody>\n",
       "</table>\n",
       "</div>"
      ],
      "text/plain": [
       "           page_type  weight\n",
       "0             bought       1\n",
       "1  added to wishlist       1"
      ]
     },
     "execution_count": 3,
     "metadata": {},
     "output_type": "execute_result"
    }
   ],
   "source": [
    "df_weights = pd.DataFrame({\"page_type\": [\"bought\", \"added to wishlist\"],\n",
    "                           'weight': [1, 1]})\n",
    "df_weights"
   ]
  },
  {
   "cell_type": "code",
   "execution_count": 4,
   "id": "ee9adbb4",
   "metadata": {
    "scrolled": true
   },
   "outputs": [],
   "source": [
    "interactions2 = pd.DataFrame([],columns=['uid', 'item_id', 'page_type'])\n",
    "lst_prods = []\n",
    "for uid in range(0,len(interactions.uid)):\n",
    "    lst_prods = list(filter(lambda x: x.isdigit(), [i.strip('[]\\n') for i in interactions[interactions['uid']==uid]['item_id'].to_list()[0].split(' ')]))\n",
    "    for prod in lst_prods:\n",
    "        interactions2 = interactions2.append({'uid':uid, 'item_id':prod, 'page_type':random.sample(df_weights['page_type'].to_list(),1)[0]}, ignore_index=True)"
   ]
  },
  {
   "cell_type": "code",
   "execution_count": 5,
   "id": "59c5521c",
   "metadata": {
    "scrolled": true
   },
   "outputs": [],
   "source": [
    "products_dict = {}\n",
    "new_products_dict = {}\n",
    "n = 0\n",
    "for i in set(interactions2['item_id']):\n",
    "    products_dict[int(i)] = n\n",
    "    new_products_dict[n] = int(i)\n",
    "    n += 1"
   ]
  },
  {
   "cell_type": "code",
   "execution_count": 6,
   "id": "66c6d47e",
   "metadata": {},
   "outputs": [
    {
     "data": {
      "text/html": [
       "<div>\n",
       "<style scoped>\n",
       "    .dataframe tbody tr th:only-of-type {\n",
       "        vertical-align: middle;\n",
       "    }\n",
       "\n",
       "    .dataframe tbody tr th {\n",
       "        vertical-align: top;\n",
       "    }\n",
       "\n",
       "    .dataframe thead th {\n",
       "        text-align: right;\n",
       "    }\n",
       "</style>\n",
       "<table border=\"1\" class=\"dataframe\">\n",
       "  <thead>\n",
       "    <tr style=\"text-align: right;\">\n",
       "      <th></th>\n",
       "      <th>uid</th>\n",
       "      <th>item_id</th>\n",
       "      <th>page_type</th>\n",
       "      <th>new_item_id</th>\n",
       "    </tr>\n",
       "  </thead>\n",
       "  <tbody>\n",
       "    <tr>\n",
       "      <th>0</th>\n",
       "      <td>0</td>\n",
       "      <td>11802</td>\n",
       "      <td>bought</td>\n",
       "      <td>175</td>\n",
       "    </tr>\n",
       "    <tr>\n",
       "      <th>1</th>\n",
       "      <td>0</td>\n",
       "      <td>11893</td>\n",
       "      <td>bought</td>\n",
       "      <td>449</td>\n",
       "    </tr>\n",
       "    <tr>\n",
       "      <th>2</th>\n",
       "      <td>0</td>\n",
       "      <td>11900</td>\n",
       "      <td>bought</td>\n",
       "      <td>531</td>\n",
       "    </tr>\n",
       "    <tr>\n",
       "      <th>3</th>\n",
       "      <td>0</td>\n",
       "      <td>11936</td>\n",
       "      <td>added to wishlist</td>\n",
       "      <td>417</td>\n",
       "    </tr>\n",
       "    <tr>\n",
       "      <th>4</th>\n",
       "      <td>0</td>\n",
       "      <td>12023</td>\n",
       "      <td>added to wishlist</td>\n",
       "      <td>19</td>\n",
       "    </tr>\n",
       "    <tr>\n",
       "      <th>...</th>\n",
       "      <td>...</td>\n",
       "      <td>...</td>\n",
       "      <td>...</td>\n",
       "      <td>...</td>\n",
       "    </tr>\n",
       "    <tr>\n",
       "      <th>4320</th>\n",
       "      <td>199</td>\n",
       "      <td>529589</td>\n",
       "      <td>bought</td>\n",
       "      <td>84</td>\n",
       "    </tr>\n",
       "    <tr>\n",
       "      <th>4321</th>\n",
       "      <td>199</td>\n",
       "      <td>574155</td>\n",
       "      <td>added to wishlist</td>\n",
       "      <td>309</td>\n",
       "    </tr>\n",
       "    <tr>\n",
       "      <th>4322</th>\n",
       "      <td>199</td>\n",
       "      <td>611127</td>\n",
       "      <td>added to wishlist</td>\n",
       "      <td>320</td>\n",
       "    </tr>\n",
       "    <tr>\n",
       "      <th>4323</th>\n",
       "      <td>199</td>\n",
       "      <td>645909</td>\n",
       "      <td>added to wishlist</td>\n",
       "      <td>118</td>\n",
       "    </tr>\n",
       "    <tr>\n",
       "      <th>4324</th>\n",
       "      <td>199</td>\n",
       "      <td>653092</td>\n",
       "      <td>bought</td>\n",
       "      <td>496</td>\n",
       "    </tr>\n",
       "  </tbody>\n",
       "</table>\n",
       "<p>4325 rows × 4 columns</p>\n",
       "</div>"
      ],
      "text/plain": [
       "      uid item_id          page_type  new_item_id\n",
       "0       0   11802             bought          175\n",
       "1       0   11893             bought          449\n",
       "2       0   11900             bought          531\n",
       "3       0   11936  added to wishlist          417\n",
       "4       0   12023  added to wishlist           19\n",
       "...   ...     ...                ...          ...\n",
       "4320  199  529589             bought           84\n",
       "4321  199  574155  added to wishlist          309\n",
       "4322  199  611127  added to wishlist          320\n",
       "4323  199  645909  added to wishlist          118\n",
       "4324  199  653092             bought          496\n",
       "\n",
       "[4325 rows x 4 columns]"
      ]
     },
     "execution_count": 6,
     "metadata": {},
     "output_type": "execute_result"
    }
   ],
   "source": [
    "interactions2['new_item_id'] = [products_dict[int(item)] for item in interactions2['item_id']]\n",
    "interactions2"
   ]
  },
  {
   "cell_type": "code",
   "execution_count": 7,
   "id": "02098211",
   "metadata": {},
   "outputs": [],
   "source": [
    "data = pd.read_csv(\"D:\\RecSys\\products.csv\")"
   ]
  },
  {
   "cell_type": "code",
   "execution_count": 8,
   "id": "ae53ed02",
   "metadata": {},
   "outputs": [],
   "source": [
    "weighted = interactions2.merge(df_weights, on=\"page_type\")\\\n",
    "                  .groupby([\"uid\", \"item_id\", \"new_item_id\"])[\"weight\"]\\\n",
    "                  .sum()\\\n",
    "                  .reset_index()"
   ]
  },
  {
   "cell_type": "code",
   "execution_count": 9,
   "id": "974ff549",
   "metadata": {},
   "outputs": [],
   "source": [
    "matrix = coo_matrix((weighted[\"weight\"], (weighted[\"uid\"], weighted[\"new_item_id\"])), \n",
    "                    shape=(len(set(weighted[\"uid\"])), len(set(weighted[\"new_item_id\"]))))"
   ]
  },
  {
   "cell_type": "code",
   "execution_count": 10,
   "id": "3732d5df",
   "metadata": {},
   "outputs": [],
   "source": [
    "class ColloborativeFiltering():\n",
    "        df_weights_user = {\"bought\":3, \"added to wishlist\":1}\n",
    "        def __init__(self, interactions):\n",
    "            df_weights = pd.DataFrame({\"page_type\": [\"bought\", \"added to wishlist\"],\n",
    "                           'weight': [1, 1]})\n",
    "            #create table with weights and clean data\n",
    "            interactions2 = pd.DataFrame([],columns=['uid', 'item_id', 'page_type'])\n",
    "            lst_prods = []\n",
    "            for uid in range(0,len(interactions.uid)):\n",
    "                lst_prods = list(filter(lambda x: x.isdigit(), [i.strip('[]\\n') for i in interactions[interactions['uid']==uid]['item_id'].to_list()[0].split(' ')]))\n",
    "                for prod in lst_prods:\n",
    "                    interactions2 = interactions2.append({'uid':uid, 'item_id':prod, 'page_type':random.sample(df_weights['page_type'].to_list(),1)[0]}, ignore_index=True)\n",
    "            #create dict with new_products indexes\n",
    "            self.products_dict = {}\n",
    "            n = 0\n",
    "            for i in set(interactions2['item_id']):\n",
    "                self.products_dict[int(i)] = n\n",
    "                n += 1\n",
    "            #make new column with new item ids\n",
    "            interactions2['new_item_id'] = [self.products_dict[int(item)] for item in interactions2['item_id']]\n",
    "            #make new column with weights\n",
    "            weighted = interactions2.merge(df_weights, on=\"page_type\")\\\n",
    "                  .groupby([\"uid\", \"item_id\", \"new_item_id\"])[\"weight\"]\\\n",
    "                  .sum()\\\n",
    "                  .reset_index()\n",
    "            #create coordinate matrix for users and items\n",
    "            self.matrix = coo_matrix((weighted[\"weight\"], (weighted[\"uid\"], weighted[\"new_item_id\"])), \n",
    "                    shape=(len(set(weighted[\"uid\"])), len(set(weighted[\"new_item_id\"]))))\n",
    "            \n",
    "        def get_rec_U2I(self, users_products,page_types):\n",
    "            #create user_interactions array\n",
    "            usr_int_arr = np.zeros(matrix.shape[1])\n",
    "            for i in users_products:\n",
    "                usr_int_arr[self.products_dict[i]]=self.df_weights_user[page_types[i]]\n",
    "            #косинусная близость между пользователем и остальными пользователями\n",
    "            metrics = cosine_similarity([usr_int_arr], self.matrix).reshape(-1, 1)\n",
    "            #умножаем  все взаимодействия каждого пользователя с товарами на косинусную близость с этим пользователем\n",
    "            rates = csr_matrix.multiply(self.matrix.copy(), metrics)\n",
    "            #складываем коэффициенты для каждого товара по всем пользователям и домножаем на 0 те товары, которые уже есть в выборке\n",
    "            total_rate = (1 - usr_int_arr.astype(bool)) * np.array(np.sum(rates, axis=0))[0]\n",
    "            return total_rate\n"
   ]
  },
  {
   "cell_type": "code",
   "execution_count": 11,
   "id": "628d772a",
   "metadata": {},
   "outputs": [],
   "source": [
    "CB = ColloborativeFiltering(interactions)"
   ]
  },
  {
   "cell_type": "code",
   "execution_count": 12,
   "id": "01d5d996",
   "metadata": {},
   "outputs": [],
   "source": [
    "users_products = [96087,114517,70110,110624]"
   ]
  },
  {
   "cell_type": "code",
   "execution_count": 13,
   "id": "a853a674",
   "metadata": {
    "scrolled": true
   },
   "outputs": [],
   "source": [
    "page_types = {96087:\"added to wishlist\",114517:\"bought\",70110:\"added to wishlist\",110624:\"added to wishlist\"}"
   ]
  },
  {
   "cell_type": "code",
   "execution_count": 14,
   "id": "6612551c",
   "metadata": {},
   "outputs": [],
   "source": [
    "rates = CB.get_rec_U2I(users_products, page_types)"
   ]
  },
  {
   "cell_type": "code",
   "execution_count": 15,
   "id": "82e72b79",
   "metadata": {
    "scrolled": true
   },
   "outputs": [
    {
     "data": {
      "text/plain": [
       "[(11, 1.492318137393784),\n",
       " (575, 1.3713927451162833),\n",
       " (554, 1.2030940095329288),\n",
       " (53, 1.1341577649026067),\n",
       " (167, 1.1205497351180314),\n",
       " (35, 1.106428375874431),\n",
       " (288, 1.0774776207203083),\n",
       " (96, 1.067815737922685),\n",
       " (322, 1.061315703020014),\n",
       " (374, 1.015931875230642),\n",
       " (28, 1.0011227764771293),\n",
       " (377, 0.9574028507427479),\n",
       " (503, 0.9433877495581668),\n",
       " (141, 0.9430039530018304),\n",
       " (264, 0.9421972113782504)]"
      ]
     },
     "execution_count": 15,
     "metadata": {},
     "output_type": "execute_result"
    }
   ],
   "source": [
    "prod_metrics = {}\n",
    "for i in range(0,len(rates)):\n",
    "    prod_metrics[i] = rates[i]\n",
    "sorted_list = sorted(prod_metrics.items(), key=lambda x: x[1], reverse=True)\n",
    "sorted_list[:15]"
   ]
  },
  {
   "cell_type": "code",
   "execution_count": 16,
   "id": "b5ad8cbe",
   "metadata": {},
   "outputs": [
    {
     "data": {
      "text/html": [
       "<div>\n",
       "<style scoped>\n",
       "    .dataframe tbody tr th:only-of-type {\n",
       "        vertical-align: middle;\n",
       "    }\n",
       "\n",
       "    .dataframe tbody tr th {\n",
       "        vertical-align: top;\n",
       "    }\n",
       "\n",
       "    .dataframe thead th {\n",
       "        text-align: right;\n",
       "    }\n",
       "</style>\n",
       "<table border=\"1\" class=\"dataframe\">\n",
       "  <thead>\n",
       "    <tr style=\"text-align: right;\">\n",
       "      <th></th>\n",
       "      <th>name</th>\n",
       "      <th>article</th>\n",
       "    </tr>\n",
       "  </thead>\n",
       "  <tbody>\n",
       "    <tr>\n",
       "      <th>0</th>\n",
       "      <td>273    Кукла Роралай CAVE CLUB\n",
       "Name: name, dty...</td>\n",
       "      <td>96087</td>\n",
       "    </tr>\n",
       "    <tr>\n",
       "      <th>1</th>\n",
       "      <td>287    Набор с куклой Ася Семья TOYSLAB\n",
       "Name: ...</td>\n",
       "      <td>114517</td>\n",
       "    </tr>\n",
       "    <tr>\n",
       "      <th>2</th>\n",
       "      <td>370    LEGO City Fire Лесные пожарные арт. 602...</td>\n",
       "      <td>70110</td>\n",
       "    </tr>\n",
       "    <tr>\n",
       "      <th>3</th>\n",
       "      <td>371    Lego 60279 пожарный автомобиль\n",
       "Name: na...</td>\n",
       "      <td>110624</td>\n",
       "    </tr>\n",
       "  </tbody>\n",
       "</table>\n",
       "</div>"
      ],
      "text/plain": [
       "                                                name article\n",
       "0  273    Кукла Роралай CAVE CLUB\n",
       "Name: name, dty...   96087\n",
       "1  287    Набор с куклой Ася Семья TOYSLAB\n",
       "Name: ...  114517\n",
       "2  370    LEGO City Fire Лесные пожарные арт. 602...   70110\n",
       "3  371    Lego 60279 пожарный автомобиль\n",
       "Name: na...  110624"
      ]
     },
     "execution_count": 16,
     "metadata": {},
     "output_type": "execute_result"
    }
   ],
   "source": [
    "user_df = pd.DataFrame([], columns=['name','article'])\n",
    "for product in users_products:\n",
    "    user_df = user_df.append({'name':data[data['article']==product]['name'],'article':product}, ignore_index=True)\n",
    "user_df"
   ]
  },
  {
   "cell_type": "code",
   "execution_count": 17,
   "id": "7c62dfbc",
   "metadata": {},
   "outputs": [],
   "source": [
    "results = pd.DataFrame([],columns=['name','article','metric'])\n",
    "for i in sorted_list[:15]:\n",
    "    results = results.append({'name' : data[data['article']==new_products_dict[i[0]]]['name'].to_list()[0], 'article' : int(new_products_dict[i[0]]), 'metric' : i[1]}, ignore_index=True)"
   ]
  },
  {
   "cell_type": "code",
   "execution_count": 18,
   "id": "186605d7",
   "metadata": {},
   "outputs": [
    {
     "data": {
      "text/html": [
       "<div>\n",
       "<style scoped>\n",
       "    .dataframe tbody tr th:only-of-type {\n",
       "        vertical-align: middle;\n",
       "    }\n",
       "\n",
       "    .dataframe tbody tr th {\n",
       "        vertical-align: top;\n",
       "    }\n",
       "\n",
       "    .dataframe thead th {\n",
       "        text-align: right;\n",
       "    }\n",
       "</style>\n",
       "<table border=\"1\" class=\"dataframe\">\n",
       "  <thead>\n",
       "    <tr style=\"text-align: right;\">\n",
       "      <th></th>\n",
       "      <th>name</th>\n",
       "      <th>article</th>\n",
       "      <th>metric</th>\n",
       "    </tr>\n",
       "  </thead>\n",
       "  <tbody>\n",
       "    <tr>\n",
       "      <th>0</th>\n",
       "      <td>Набор кукла с мебелью Miliya Valori</td>\n",
       "      <td>119664</td>\n",
       "      <td>1.492318</td>\n",
       "    </tr>\n",
       "    <tr>\n",
       "      <th>1</th>\n",
       "      <td>Lego 60304 перекрёсток</td>\n",
       "      <td>110621</td>\n",
       "      <td>1.371393</td>\n",
       "    </tr>\n",
       "    <tr>\n",
       "      <th>2</th>\n",
       "      <td>Lego 60287 трактор</td>\n",
       "      <td>110601</td>\n",
       "      <td>1.203094</td>\n",
       "    </tr>\n",
       "    <tr>\n",
       "      <th>3</th>\n",
       "      <td>Lego 10953 Единорог</td>\n",
       "      <td>110607</td>\n",
       "      <td>1.134158</td>\n",
       "    </tr>\n",
       "    <tr>\n",
       "      <th>4</th>\n",
       "      <td>Кукла Ася. Розовый в моде ToysLab</td>\n",
       "      <td>114518</td>\n",
       "      <td>1.120550</td>\n",
       "    </tr>\n",
       "    <tr>\n",
       "      <th>5</th>\n",
       "      <td>Lego 71381 кусалкин на цепи</td>\n",
       "      <td>110620</td>\n",
       "      <td>1.106428</td>\n",
       "    </tr>\n",
       "    <tr>\n",
       "      <th>6</th>\n",
       "      <td>Кукла Disney Frozen Холодное сердце 2 в ассорт...</td>\n",
       "      <td>111843</td>\n",
       "      <td>1.077478</td>\n",
       "    </tr>\n",
       "    <tr>\n",
       "      <th>7</th>\n",
       "      <td>LEGO City Fire Пожар в бургер-кафе арт. 60214</td>\n",
       "      <td>659801</td>\n",
       "      <td>1.067816</td>\n",
       "    </tr>\n",
       "    <tr>\n",
       "      <th>8</th>\n",
       "      <td>Набор кукла с коляской Nini love Valori</td>\n",
       "      <td>119669</td>\n",
       "      <td>1.061316</td>\n",
       "    </tr>\n",
       "    <tr>\n",
       "      <th>9</th>\n",
       "      <td>Barbie кукла космонавт</td>\n",
       "      <td>112553</td>\n",
       "      <td>1.015932</td>\n",
       "    </tr>\n",
       "    <tr>\n",
       "      <th>10</th>\n",
       "      <td>Набор кукла на самокате Nini love Valori</td>\n",
       "      <td>119663</td>\n",
       "      <td>1.001123</td>\n",
       "    </tr>\n",
       "    <tr>\n",
       "      <th>11</th>\n",
       "      <td>Кукла Фернесса CAVE CLUB</td>\n",
       "      <td>96086</td>\n",
       "      <td>0.957403</td>\n",
       "    </tr>\n",
       "    <tr>\n",
       "      <th>12</th>\n",
       "      <td>Набор кукла с питомцами Nini love Valori</td>\n",
       "      <td>119680</td>\n",
       "      <td>0.943388</td>\n",
       "    </tr>\n",
       "    <tr>\n",
       "      <th>13</th>\n",
       "      <td>Набор пирамидка-чашки Valori</td>\n",
       "      <td>119665</td>\n",
       "      <td>0.943004</td>\n",
       "    </tr>\n",
       "    <tr>\n",
       "      <th>14</th>\n",
       "      <td>Набор кукла на велосипеде Nini love Valori</td>\n",
       "      <td>119671</td>\n",
       "      <td>0.942197</td>\n",
       "    </tr>\n",
       "  </tbody>\n",
       "</table>\n",
       "</div>"
      ],
      "text/plain": [
       "                                                 name article    metric\n",
       "0                 Набор кукла с мебелью Miliya Valori  119664  1.492318\n",
       "1                              Lego 60304 перекрёсток  110621  1.371393\n",
       "2                                  Lego 60287 трактор  110601  1.203094\n",
       "3                                 Lego 10953 Единорог  110607  1.134158\n",
       "4                   Кукла Ася. Розовый в моде ToysLab  114518  1.120550\n",
       "5                         Lego 71381 кусалкин на цепи  110620  1.106428\n",
       "6   Кукла Disney Frozen Холодное сердце 2 в ассорт...  111843  1.077478\n",
       "7       LEGO City Fire Пожар в бургер-кафе арт. 60214  659801  1.067816\n",
       "8             Набор кукла с коляской Nini love Valori  119669  1.061316\n",
       "9                              Barbie кукла космонавт  112553  1.015932\n",
       "10           Набор кукла на самокате Nini love Valori  119663  1.001123\n",
       "11                           Кукла Фернесса CAVE CLUB   96086  0.957403\n",
       "12           Набор кукла с питомцами Nini love Valori  119680  0.943388\n",
       "13                       Набор пирамидка-чашки Valori  119665  0.943004\n",
       "14         Набор кукла на велосипеде Nini love Valori  119671  0.942197"
      ]
     },
     "execution_count": 18,
     "metadata": {},
     "output_type": "execute_result"
    }
   ],
   "source": [
    "results"
   ]
  },
  {
   "cell_type": "code",
   "execution_count": null,
   "id": "9ace4023",
   "metadata": {},
   "outputs": [],
   "source": []
  }
 ],
 "metadata": {
  "kernelspec": {
   "display_name": "Python 3",
   "language": "python",
   "name": "python3"
  },
  "language_info": {
   "codemirror_mode": {
    "name": "ipython",
    "version": 3
   },
   "file_extension": ".py",
   "mimetype": "text/x-python",
   "name": "python",
   "nbconvert_exporter": "python",
   "pygments_lexer": "ipython3",
   "version": "3.7.9"
  }
 },
 "nbformat": 4,
 "nbformat_minor": 5
}
